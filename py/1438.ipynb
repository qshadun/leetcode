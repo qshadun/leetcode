{
 "cells": [
  {
   "cell_type": "code",
   "execution_count": 1,
   "metadata": {},
   "outputs": [
    {
     "name": "stdout",
     "output_type": "stream",
     "text": [
      "3.12.2 | packaged by Anaconda, Inc. | (main, Feb 27 2024, 11:35:17) [Clang 14.0.6 ]\n"
     ]
    }
   ],
   "source": [
    "import sys\n",
    "print(sys.version)"
   ]
  },
  {
   "cell_type": "code",
   "execution_count": 1,
   "metadata": {},
   "outputs": [],
   "source": [
    "from sortedcontainers import SortedList\n",
    "from typing import List\n",
    "\n",
    "class Solution:\n",
    "    def longestSubarray(self, nums: List[int], limit: int) -> int:\n",
    "        counter = SortedList()\n",
    "        counter.add(nums[0])\n",
    "        left = 0\n",
    "        ans = 1\n",
    "        for right in range(1, len(nums)):\n",
    "            counter.add(nums[right])\n",
    "            while counter[-1] - counter[0] > limit:\n",
    "                counter.discard(nums[left])\n",
    "                left += 1\n",
    "            ans = max(ans, right - left + 1)\n",
    "        return ans"
   ]
  },
  {
   "cell_type": "code",
   "execution_count": 14,
   "metadata": {},
   "outputs": [],
   "source": [
    "s = Solution()"
   ]
  },
  {
   "cell_type": "code",
   "execution_count": 16,
   "metadata": {},
   "outputs": [
    {
     "data": {
      "text/plain": [
       "2"
      ]
     },
     "execution_count": 16,
     "metadata": {},
     "output_type": "execute_result"
    }
   ],
   "source": [
    "s.longestSubarray([8,2,4,7], 4)"
   ]
  },
  {
   "cell_type": "code",
   "execution_count": 12,
   "metadata": {},
   "outputs": [
    {
     "data": {
      "text/plain": [
       "230412"
      ]
     },
     "execution_count": 12,
     "metadata": {},
     "output_type": "execute_result"
    }
   ],
   "source": [
    "class Solution:\n",
    "    def nextGreaterElement(self, n: int) -> int:\n",
    "        digits = [int(i) for i in str(n)]\n",
    "        digits.reverse()\n",
    "        st = []\n",
    "        for i, num in enumerate(digits):\n",
    "            j = None\n",
    "            while st and digits[st[-1]] > num:\n",
    "                j = st.pop()\n",
    "            if j is not None:\n",
    "                digits[i], digits[j] = digits[j], digits[i]\n",
    "                pre = digits[:i]\n",
    "                pre.sort(key=lambda x: -x)\n",
    "                digits = pre + digits[i:] \n",
    "                digits.reverse()\n",
    "                return int(''.join([str(x) for x in digits]))\n",
    "            st.append(i)\n",
    "        return -1\n",
    "\n",
    "s = Solution()\n",
    "s.nextGreaterElement(230241)"
   ]
  },
  {
   "cell_type": "code",
   "execution_count": null,
   "metadata": {},
   "outputs": [],
   "source": []
  }
 ],
 "metadata": {
  "kernelspec": {
   "display_name": "Test",
   "language": "python",
   "name": "python3"
  },
  "language_info": {
   "codemirror_mode": {
    "name": "ipython",
    "version": 3
   },
   "file_extension": ".py",
   "mimetype": "text/x-python",
   "name": "python",
   "nbconvert_exporter": "python",
   "pygments_lexer": "ipython3",
   "version": "3.12.2"
  }
 },
 "nbformat": 4,
 "nbformat_minor": 2
}
