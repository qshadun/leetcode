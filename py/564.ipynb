{
 "cells": [
  {
   "cell_type": "code",
   "execution_count": null,
   "metadata": {},
   "outputs": [],
   "source": [
    "def is_palindrome(s: str):\n",
    "    i, j = 0, len(s) - 1\n",
    "    while i < j:\n",
    "        if s[i] != s[j]:\n",
    "            return False\n",
    "        i += 1\n",
    "        j -= 1\n",
    "    return True\n",
    "\n",
    "def get_close_palindrome(s):\n",
    "\n",
    "    cs = [c for c in s]\n",
    "    N = len(s)\n",
    "    if N % 2:\n",
    "        i, j = N//2, N//2\n",
    "    else:\n",
    "        i, j = N//2 - 1, N//2\n",
    "    ans = []\n",
    "    num = int(cs[i])\n",
    "    if (i > 0 and num > 0) or (i == 0 and num > 1):\n",
    "        x = num - 1\n",
    "        cs[i] = str(x)\n",
    "        cs[j] = str(x)\n",
    "        cand = int(''.join(cs))\n",
    "        \n",
    "        ans.append(cand)\n",
    "    if num < 9:\n",
    "        x = num + 1\n",
    "        cs[i] = str(x)\n",
    "        cs[j] = str(x)\n",
    "        cand = int(''.join(cs))\n",
    "        ans.append(cand)\n",
    "    return ans\n",
    "\n",
    "class Solution:\n",
    "    def nearestPalindromic(self, n: str) -> str:\n",
    "        s = n\n",
    "        n = int(s)\n",
    "        if n == 0:\n",
    "            return '1'\n",
    "        if n < 10:\n",
    "            return str(n - 1)\n",
    "        N = len(s)\n",
    "        ans = int('9'* (N-1))\n",
    "        \n",
    "        def choose(x, y):\n",
    "            if abs(n - x) < abs(n - y):\n",
    "                return x\n",
    "            elif abs(n-x) == abs(n-y):\n",
    "                return min(x, y)\n",
    "            else:\n",
    "                return y\n",
    "        \n",
    "        cand = int('1' + '0' * (N-1) + '1')\n",
    "        if cand != n:\n",
    "            ans = choose(cand, ans)\n",
    "\n",
    "        if is_palindrome(s):\n",
    "            cands = get_close_palindrome(s)\n",
    "        else:\n",
    "            if N % 2 == 0:\n",
    "                cand = int(s[:N//2] + s[:N//2][::-1])\n",
    "            else:\n",
    "                cand = int(s[:N//2 + 1] + s[:N//2][::-1])\n",
    "            cands = get_close_palindrome(str(cand))\n",
    "            cands.append(cand)\n",
    "        for cand in cands:\n",
    "            if cand != n:\n",
    "                ans = choose(ans, cand)\n",
    "\n",
    "        return str(ans)\n",
    "        "
   ]
  },
  {
   "cell_type": "code",
   "execution_count": 3,
   "metadata": {},
   "outputs": [
    {
     "data": {
      "text/plain": [
       "['1.txt', 'abcd)']"
      ]
     },
     "execution_count": 3,
     "metadata": {},
     "output_type": "execute_result"
    }
   ],
   "source": [
    "'1.txt(abcd)'.split('(')"
   ]
  },
  {
   "cell_type": "code",
   "execution_count": 2,
   "metadata": {},
   "outputs": [
    {
     "data": {
      "text/plain": [
       "2"
      ]
     },
     "execution_count": 2,
     "metadata": {},
     "output_type": "execute_result"
    }
   ],
   "source": [
    "m = [[3,7,8],[9,11,13],[15,16,17]]\n",
    "import numpy as np\n",
    "\n",
    "m = np.array(m)\n",
    "m.shape\n",
    "np.argmax(m[0])"
   ]
  },
  {
   "cell_type": "code",
   "execution_count": 4,
   "metadata": {},
   "outputs": [
    {
     "data": {
      "text/plain": [
       "2"
      ]
     },
     "execution_count": 4,
     "metadata": {},
     "output_type": "execute_result"
    }
   ],
   "source": [
    "np.argmax(m[:,1])"
   ]
  },
  {
   "cell_type": "code",
   "execution_count": null,
   "metadata": {},
   "outputs": [],
   "source": []
  }
 ],
 "metadata": {
  "kernelspec": {
   "display_name": "Test",
   "language": "python",
   "name": "python3"
  },
  "language_info": {
   "codemirror_mode": {
    "name": "ipython",
    "version": 3
   },
   "file_extension": ".py",
   "mimetype": "text/x-python",
   "name": "python",
   "nbconvert_exporter": "python",
   "pygments_lexer": "ipython3",
   "version": "3.12.4"
  }
 },
 "nbformat": 4,
 "nbformat_minor": 2
}
