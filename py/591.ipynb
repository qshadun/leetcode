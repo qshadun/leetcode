{
 "cells": [
  {
   "cell_type": "code",
   "execution_count": 7,
   "metadata": {},
   "outputs": [],
   "source": [
    "class Solution:\n",
    "    def isValid(self, code: str) -> bool:\n",
    "    \n",
    "        n = len(code)\n",
    "        st = []\n",
    "        s = code\n",
    "        def parse_tag(i):\n",
    "            if code[i] != '<':\n",
    "                return -1\n",
    "            j = code.find('>', i)\n",
    "            if j == -1:\n",
    "                return -1\n",
    "            tag_name = s[i+1:j]\n",
    "            \n",
    "            if len(tag_name) < 1 or len(tag_name) > 9:\n",
    "                return -1\n",
    "            if not all('A' <= x <= 'Z' for x in tag_name):\n",
    "                return -1\n",
    "            st.append(tag_name)\n",
    "            end_tag_name = f'</{tag_name}>'\n",
    "\n",
    "            j = parse_tag_content(j+1)\n",
    "            if j == -1:\n",
    "                return - 1\n",
    "            if j < n and s[j:j+len(end_tag_name)] == end_tag_name:\n",
    "                st.pop()\n",
    "                return j+len(end_tag_name)\n",
    "            else:\n",
    "                return -1\n",
    "        cdata_start = '<![CDATA['\n",
    "        cdata_end = ']]>'\n",
    "        def parse_tag_content(i):\n",
    "            j = i\n",
    "            \n",
    "            while True:\n",
    "                if j >= n:\n",
    "                    return -1\n",
    "                if s[j:j+2] == '</':\n",
    "                    x = s.find('>', j+2)\n",
    "                    if x == -1:\n",
    "                        return -1\n",
    "                    end_tag = s[j+2:x]\n",
    "                    if end_tag == st[-1]:\n",
    "                        return j\n",
    "                    else:\n",
    "                        return -1\n",
    "                if s[j:j+len(cdata_start)] == cdata_start:\n",
    "                    ce = s.find(cdata_end, j)\n",
    "                    if ce == -1:\n",
    "                        return -1\n",
    "                    j = ce + 3\n",
    "                elif s[j] == '<':\n",
    "                    j = parse_tag(j)\n",
    "                    if j == -1:\n",
    "                        return -1\n",
    "                else:\n",
    "                    j += 1\n",
    "            \n",
    "        return parse_tag(0) == n\n"
   ]
  },
  {
   "cell_type": "code",
   "execution_count": 8,
   "metadata": {},
   "outputs": [
    {
     "data": {
      "text/plain": [
       "True"
      ]
     },
     "execution_count": 8,
     "metadata": {},
     "output_type": "execute_result"
    }
   ],
   "source": [
    "sol = Solution()\n",
    "sol.isValid(\"<DIV>This is the first line <![CDATA[<div>]]></DIV>\")"
   ]
  },
  {
   "cell_type": "code",
   "execution_count": 9,
   "metadata": {},
   "outputs": [
    {
     "data": {
      "text/plain": [
       "True"
      ]
     },
     "execution_count": 9,
     "metadata": {},
     "output_type": "execute_result"
    }
   ],
   "source": [
    "sol.isValid(\"<A><A>/A></A></A>\")"
   ]
  },
  {
   "cell_type": "code",
   "execution_count": 10,
   "metadata": {},
   "outputs": [
    {
     "data": {
      "text/plain": [
       "True"
      ]
     },
     "execution_count": 10,
     "metadata": {},
     "output_type": "execute_result"
    }
   ],
   "source": [
    "sol.isValid(\"<A><B><![CDATA[<B></A>]]></B></A>\")"
   ]
  },
  {
   "cell_type": "code",
   "execution_count": null,
   "metadata": {},
   "outputs": [],
   "source": []
  }
 ],
 "metadata": {
  "kernelspec": {
   "display_name": "Test",
   "language": "python",
   "name": "python3"
  },
  "language_info": {
   "codemirror_mode": {
    "name": "ipython",
    "version": 3
   },
   "file_extension": ".py",
   "mimetype": "text/x-python",
   "name": "python",
   "nbconvert_exporter": "python",
   "pygments_lexer": "ipython3",
   "version": "3.12.2"
  }
 },
 "nbformat": 4,
 "nbformat_minor": 2
}
