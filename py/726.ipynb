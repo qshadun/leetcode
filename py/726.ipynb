{
 "cells": [
  {
   "cell_type": "code",
   "execution_count": 38,
   "metadata": {},
   "outputs": [],
   "source": [
    "from collections import defaultdict\n",
    "\n",
    "class Solution:\n",
    "    def countOfAtoms(self, formula: str) -> str:\n",
    "        n = len(formula)\n",
    "        i = 0\n",
    "        st = []\n",
    "        while i < n:\n",
    "            if 'A' <= formula[i] <= 'Z':\n",
    "                if st and st[-1] != '(' and isinstance(st[-1], str):\n",
    "                    st.append(1)\n",
    "                j = i + 1\n",
    "                while j < n and 'a' <= formula[j] <= 'z':\n",
    "                    j += 1\n",
    "                st.append(formula[i:j])\n",
    "                i = j\n",
    "            elif '0' <= formula[i] <= '9':\n",
    "                j = i + 1\n",
    "                while j < n and '0' <= formula[j] <= '9':\n",
    "                    j += 1\n",
    "                st.append(int(formula[i:j]))\n",
    "                i = j\n",
    "            elif formula[i] == '(':\n",
    "                if st and st[-1] != '(' and isinstance(st[-1], str):\n",
    "                    st.append(1)\n",
    "                st.append('(')\n",
    "                i += 1\n",
    "            elif formula[i] == ')':\n",
    "                if st and st[-1] != '(' and isinstance(st[-1], str):\n",
    "                    st.append(1)\n",
    "                j = i + 1\n",
    "                while j < n and '0' <= formula[j] <= '9':\n",
    "                    j += 1\n",
    "                if j == i+1:\n",
    "                    mul = 1\n",
    "                else:\n",
    "                    mul = int(formula[i+1:j])\n",
    "                st_tmp = []\n",
    "                while st[-1] != '(':\n",
    "                    cnt = st.pop()\n",
    "                    elem = st.pop()\n",
    "                    st_tmp.append(elem)\n",
    "                    st_tmp.append(cnt * mul)\n",
    "                st.pop()\n",
    "                st += st_tmp\n",
    "                i = j\n",
    "        if isinstance(st[-1], str):\n",
    "            st.append(1)\n",
    "        counter = defaultdict(int)\n",
    "        while st:\n",
    "            cnt = st.pop()\n",
    "            elem = st.pop()\n",
    "            counter[elem] += cnt\n",
    "        elems = sorted(list(counter))\n",
    "        ans = []\n",
    "        for elem in elems:\n",
    "            cnt = counter[elem]\n",
    "            if cnt == 1:\n",
    "                ans.append(elem)\n",
    "            else:\n",
    "                ans.append(f'{elem}{cnt}')\n",
    "        return ''.join(ans)\n",
    "\n",
    "sol = Solution()"
   ]
  },
  {
   "cell_type": "code",
   "execution_count": 26,
   "metadata": {},
   "outputs": [
    {
     "data": {
      "text/plain": [
       "'H2O'"
      ]
     },
     "execution_count": 26,
     "metadata": {},
     "output_type": "execute_result"
    }
   ],
   "source": [
    "\n",
    "sol.countOfAtoms('H2O')"
   ]
  },
  {
   "cell_type": "code",
   "execution_count": 27,
   "metadata": {},
   "outputs": [
    {
     "data": {
      "text/plain": [
       "'H2MgO2'"
      ]
     },
     "execution_count": 27,
     "metadata": {},
     "output_type": "execute_result"
    }
   ],
   "source": [
    "sol.countOfAtoms(\"Mg(OH)2\")"
   ]
  },
  {
   "cell_type": "code",
   "execution_count": 28,
   "metadata": {},
   "outputs": [
    {
     "data": {
      "text/plain": [
       "'K4N2O14S4'"
      ]
     },
     "execution_count": 28,
     "metadata": {},
     "output_type": "execute_result"
    }
   ],
   "source": [
    "sol.countOfAtoms(\"K4(ON(SO3)2)2\")"
   ]
  },
  {
   "cell_type": "code",
   "execution_count": 34,
   "metadata": {},
   "outputs": [
    {
     "data": {
      "text/plain": [
       "'Be32'"
      ]
     },
     "execution_count": 34,
     "metadata": {},
     "output_type": "execute_result"
    }
   ],
   "source": [
    "sol.countOfAtoms(\"Be32\")"
   ]
  },
  {
   "cell_type": "code",
   "execution_count": 39,
   "metadata": {},
   "outputs": [
    {
     "data": {
      "text/plain": [
       "'Be7956H306He8874'"
      ]
     },
     "execution_count": 39,
     "metadata": {},
     "output_type": "execute_result"
    }
   ],
   "source": [
    "sol.countOfAtoms(\"((HHe28Be26He)9)34\")"
   ]
  },
  {
   "cell_type": "code",
   "execution_count": 41,
   "metadata": {},
   "outputs": [
    {
     "data": {
      "text/plain": [
       "8874"
      ]
     },
     "execution_count": 41,
     "metadata": {},
     "output_type": "execute_result"
    }
   ],
   "source": [
    "28*9*34 + 9 * 34"
   ]
  },
  {
   "cell_type": "code",
   "execution_count": null,
   "metadata": {},
   "outputs": [],
   "source": []
  }
 ],
 "metadata": {
  "kernelspec": {
   "display_name": "Test",
   "language": "python",
   "name": "python3"
  },
  "language_info": {
   "codemirror_mode": {
    "name": "ipython",
    "version": 3
   },
   "file_extension": ".py",
   "mimetype": "text/x-python",
   "name": "python",
   "nbconvert_exporter": "python",
   "pygments_lexer": "ipython3",
   "version": "3.12.2"
  }
 },
 "nbformat": 4,
 "nbformat_minor": 2
}
